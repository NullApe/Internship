{
 "cells": [
  {
   "cell_type": "code",
   "execution_count": 28,
   "metadata": {
    "collapsed": false
   },
   "outputs": [
    {
     "name": "stdout",
     "output_type": "stream",
     "text": [
      "0             United States 94404\n",
      "1                    India 208024\n",
      "2             United States 84103\n",
      "3                             NaN\n",
      "4                  Australia 5064\n",
      "5                             NaN\n",
      "6              United States 8544\n",
      "7             United States 20742\n",
      "8                             NaN\n",
      "9             United States 26505\n",
      "10            United States 94720\n",
      "11                    Norway 2027\n",
      "12                            NaN\n",
      "13                   Denmark 2820\n",
      "14                    Spain 29071\n",
      "15                  Canada H3G1Y6\n",
      "16            United States 19718\n",
      "17                            NaN\n",
      "18           United States 372232\n",
      "19               Brazil 89700-248\n",
      "20                   India 723104\n",
      "21                  Germany 45259\n",
      "22            United States 74006\n",
      "23            United States 30308\n",
      "24                  Japan 4648601\n",
      "25                   India 400058\n",
      "26                   Turkey 34654\n",
      "27                            NaN\n",
      "28                  Poland 50-370\n",
      "29          Hong Kong SAR China 0\n",
      "                   ...           \n",
      "74135         United States 80203\n",
      "74136                India 752057\n",
      "74137                India 160031\n",
      "74138         United States 77450\n",
      "74139     United Kingdom NR1 3SG \n",
      "74140                India 160030\n",
      "74141                         NaN\n",
      "74142                         NaN\n",
      "74143         United States 12306\n",
      "74144                Mexico 14370\n",
      "74145                         NaN\n",
      "74146     United Kingdom CB22 3AT\n",
      "74147                India 411038\n",
      "74148           South Africa 7535\n",
      "74149                India 110067\n",
      "74150                India 202002\n",
      "74151               Germany 91054\n",
      "74152              Canada V6C 1T2\n",
      "74153                India 751023\n",
      "74154                         NaN\n",
      "74155                India 380015\n",
      "74156                India 751023\n",
      "74157              Canada M4K-3H4\n",
      "74158               Germany 91054\n",
      "74159         United States 94806\n",
      "74160                         NaN\n",
      "74161    United States 77204-5004\n",
      "74162         United States 94143\n",
      "74163                India 400019\n",
      "74164         United States 22304\n",
      "Name: address, dtype: object\n"
     ]
    }
   ],
   "source": [
    "import csv \n",
    "import pandas as pd\n",
    "\n",
    "df1 = pd.read_csv(\"directory.csv\", encoding='latin1', low_memory=False)\n",
    "\n",
    "df1['address'] = df1['Country'] + \" \" + df1['Zip/Postal Code']\n",
    "\n",
    "print (df1['address'])"
   ]
  },
  {
   "cell_type": "code",
   "execution_count": 24,
   "metadata": {
    "collapsed": false
   },
   "outputs": [
    {
     "name": "stdout",
     "output_type": "stream",
     "text": [
      "ContactID\n",
      "ExternalDataReference\n",
      "Unsubscribed\n",
      "Language\n",
      "Points\n",
      "CreationDate\n",
      "City\n",
      "Clinical Job Position\n",
      "Clinical Work Focus\n",
      "Continent\n",
      "Core\n",
      "Country\n",
      "Customer List\n",
      "Degree\n",
      "Department\n",
      "Employment Sector\n",
      "ExternalDataReference.1\n",
      "Groups\n",
      "Job Position\n",
      "Laboratory Type\n",
      "Legacy_PRDB\n",
      "Number of Beds\n",
      "Organization\n",
      "PRID\n",
      "Recruitment Notes\n",
      "Research/Work Focus\n",
      "Salutation\n",
      "Segment\n",
      "State/Province\n",
      "UserType\n",
      "Zip/Postal Code\n",
      "account_status\n",
      "last_incidence_date\n"
     ]
    }
   ],
   "source": [
    "import csv \n",
    "import pandas as pd\n",
    "\n",
    "df1 = pd.read_csv(\"directory.csv\", encoding='latin1', low_memory=False)\n",
    "\n",
    "for row in df1:\n",
    "    if '/' and '-' not in row:\n",
    "        print (row)"
   ]
  }
 ],
 "metadata": {
  "kernelspec": {
   "display_name": "Python 3",
   "language": "python",
   "name": "python3"
  },
  "language_info": {
   "codemirror_mode": {
    "name": "ipython",
    "version": 3
   },
   "file_extension": ".py",
   "mimetype": "text/x-python",
   "name": "python",
   "nbconvert_exporter": "python",
   "pygments_lexer": "ipython3",
   "version": "3.5.2"
  }
 },
 "nbformat": 4,
 "nbformat_minor": 0
}
